{
 "cells": [
  {
   "cell_type": "markdown",
   "metadata": {},
   "source": [
    "# Initialization"
   ]
  },
  {
   "cell_type": "code",
   "execution_count": 1,
   "metadata": {},
   "outputs": [],
   "source": [
    "import ipywidgets as widgets\n",
    "from IPython.display import display, Javascript"
   ]
  },
  {
   "cell_type": "code",
   "execution_count": 3,
   "metadata": {},
   "outputs": [],
   "source": [
    "sudo_image_files = [f'sudo-mon-{h:02}H.png' for h in range(24)]\n",
    "sudo_images = [open(img, 'rb').read() for img in sudo_image_files]\n",
    "assert len(sudo_images), '(Sudo) No images loaded!'\n",
    "\n",
    "seoul_image_files = [f'seoul-mon-{h:02}H.png' for h in range(24)]\n",
    "seoul_images = [open(img, 'rb').read() for img in seoul_image_files]\n",
    "assert len(seoul_images), '(Seoul) No images loaded!'"
   ]
  },
  {
   "cell_type": "markdown",
   "metadata": {},
   "source": [
    "# The Plots"
   ]
  },
  {
   "cell_type": "code",
   "execution_count": 5,
   "metadata": {},
   "outputs": [
    {
     "data": {
      "application/vnd.jupyter.widget-view+json": {
       "model_id": "c501ddda68a14992852f497d57246ccf",
       "version_major": 2,
       "version_minor": 0
      },
      "text/plain": [
       "IntSlider(value=0, description='Hour', max=23)"
      ]
     },
     "metadata": {},
     "output_type": "display_data"
    },
    {
     "data": {
      "application/vnd.jupyter.widget-view+json": {
       "model_id": "0ab91650d597471389ef096a4427c4d9",
       "version_major": 2,
       "version_minor": 0
      },
      "text/plain": [
       "Image(value=b'\\x89PNG\\r\\n\\x1a\\n\\x00\\x00\\x00\\rIHDR\\x00\\x00\\x02\\r\\x00\\x00\\x02~\\x08\\x06\\x00\\x00\\x000\\xae3\\xfb\\x00…"
      ]
     },
     "metadata": {},
     "output_type": "display_data"
    }
   ],
   "source": [
    "slider = widgets.IntSlider(min=0, max=23, value=0, description='Hour')\n",
    "imager = widgets.Image(value=sudo_images[0], format='png', width=600)\n",
    "\n",
    "display(slider)\n",
    "display(imager)\n",
    "\n",
    "def sudo_handle_slider_change(change):\n",
    "    imager.value = sudo_images[change['new']]\n",
    "\n",
    "slider.observe(sudo_handle_slider_change, names='value')"
   ]
  },
  {
   "cell_type": "code",
   "execution_count": 12,
   "metadata": {},
   "outputs": [
    {
     "data": {
      "application/vnd.jupyter.widget-view+json": {
       "model_id": "e96cbf90bda641ba9de2a007e8e8cb97",
       "version_major": 2,
       "version_minor": 0
      },
      "text/plain": [
       "IntSlider(value=0, description='Hour', max=23)"
      ]
     },
     "metadata": {},
     "output_type": "display_data"
    },
    {
     "data": {
      "application/vnd.jupyter.widget-view+json": {
       "model_id": "e66287a44c49409f9dc946839b9bc642",
       "version_major": 2,
       "version_minor": 0
      },
      "text/plain": [
       "Image(value=b'\\x89PNG\\r\\n\\x1a\\n\\x00\\x00\\x00\\rIHDR\\x00\\x00\\x02\\x84\\x00\\x00\\x02~\\x08\\x06\\x00\\x00\\x00*\\xbe\\x110\\x…"
      ]
     },
     "metadata": {},
     "output_type": "display_data"
    }
   ],
   "source": [
    "slider = widgets.IntSlider(min=0, max=23, value=0, description='Hour')\n",
    "imager = widgets.Image(value=seoul_images[0], format='png', width=600)\n",
    "\n",
    "display(slider)\n",
    "display(imager)\n",
    "\n",
    "def seoul_handle_slider_change(change):\n",
    "    imager.value = seoul_images[change['new']]\n",
    "\n",
    "slider.observe(seoul_handle_slider_change, names='value')"
   ]
  }
 ],
 "metadata": {
  "kernelspec": {
   "display_name": "Python 3",
   "language": "python",
   "name": "python3"
  },
  "language_info": {
   "codemirror_mode": {
    "name": "ipython",
    "version": 3
   },
   "file_extension": ".py",
   "mimetype": "text/x-python",
   "name": "python",
   "nbconvert_exporter": "python",
   "pygments_lexer": "ipython3",
   "version": "3.12.5"
  }
 },
 "nbformat": 4,
 "nbformat_minor": 2
}
