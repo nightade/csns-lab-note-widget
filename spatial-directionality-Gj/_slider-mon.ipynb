{
 "cells": [
  {
   "cell_type": "code",
   "execution_count": 1,
   "metadata": {},
   "outputs": [],
   "source": [
    "import ipywidgets as widgets\n",
    "from IPython.display import display"
   ]
  },
  {
   "cell_type": "code",
   "execution_count": 10,
   "metadata": {},
   "outputs": [
    {
     "data": {
      "application/vnd.jupyter.widget-view+json": {
       "model_id": "91393652a3b247f6bf3967e1507a8597",
       "version_major": 2,
       "version_minor": 0
      },
      "text/plain": [
       "Image(value=b'\\x89PNG\\r\\n\\x1a\\n\\x00\\x00\\x00\\rIHDR\\x00\\x00\\x02C\\x00\\x00\\x01\\xe0\\x08\\x06\\x00\\x00\\x00\\xa6YiF\\x00\\…"
      ]
     },
     "metadata": {},
     "output_type": "display_data"
    }
   ],
   "source": [
    "display(widgets.Image(value=open('min_max.png', 'rb').read()))"
   ]
  },
  {
   "cell_type": "code",
   "execution_count": 2,
   "metadata": {},
   "outputs": [],
   "source": [
    "sudo_image_files = [f'sudo-mon-{h:02}H.png' for h in range(24)]\n",
    "sudo_images = [open(img, 'rb').read() for img in sudo_image_files]\n",
    "assert len(sudo_images), '(Sudo) No images loaded!'\n",
    "\n",
    "seoul_image_files = [f'seoul-mon-{h:02}H.png' for h in range(24)]\n",
    "seoul_images = [open(img, 'rb').read() for img in seoul_image_files]\n",
    "assert len(seoul_images), '(Seoul) No images loaded!'"
   ]
  },
  {
   "cell_type": "markdown",
   "metadata": {},
   "source": [
    "# Distribution of $G_j$\n",
    "\n",
    "*\"Centerness\"* of $j$ (kind of)"
   ]
  },
  {
   "cell_type": "code",
   "execution_count": 6,
   "metadata": {},
   "outputs": [
    {
     "data": {
      "application/vnd.jupyter.widget-view+json": {
       "model_id": "8706e9471b564edc8a8f0b6aadaf9ce8",
       "version_major": 2,
       "version_minor": 0
      },
      "text/plain": [
       "IntSlider(value=0, description='Hour', max=23)"
      ]
     },
     "metadata": {},
     "output_type": "display_data"
    },
    {
     "data": {
      "application/vnd.jupyter.widget-view+json": {
       "model_id": "568055273eaf4ed0bcdf997fc174319c",
       "version_major": 2,
       "version_minor": 0
      },
      "text/plain": [
       "Image(value=b'\\x89PNG\\r\\n\\x1a\\n\\x00\\x00\\x00\\rIHDR\\x00\\x00\\x02\\r\\x00\\x00\\x02~\\x08\\x06\\x00\\x00\\x000\\xae3\\xfb\\x00…"
      ]
     },
     "metadata": {},
     "output_type": "display_data"
    }
   ],
   "source": [
    "sudo_slider = widgets.IntSlider(min=0, max=23, value=0, description='Hour')\n",
    "imager = widgets.Image(value=sudo_images[0], format='png', width=600)\n",
    "\n",
    "display(sudo_slider)\n",
    "display(imager)\n",
    "\n",
    "def sudo_handle_slider_change(change):\n",
    "    imager.value = sudo_images[change['new']]\n",
    "\n",
    "sudo_slider.observe(sudo_handle_slider_change, names='value')"
   ]
  },
  {
   "cell_type": "code",
   "execution_count": 8,
   "metadata": {},
   "outputs": [
    {
     "data": {
      "application/vnd.jupyter.widget-view+json": {
       "model_id": "f3acc856e06d4fb3b8bdc971c48d258b",
       "version_major": 2,
       "version_minor": 0
      },
      "text/plain": [
       "IntSlider(value=0, description='Hour', max=23)"
      ]
     },
     "metadata": {},
     "output_type": "display_data"
    },
    {
     "data": {
      "application/vnd.jupyter.widget-view+json": {
       "model_id": "7828caaff2564defb1a65ed8f056561a",
       "version_major": 2,
       "version_minor": 0
      },
      "text/plain": [
       "Image(value=b'\\x89PNG\\r\\n\\x1a\\n\\x00\\x00\\x00\\rIHDR\\x00\\x00\\x02\\x84\\x00\\x00\\x02~\\x08\\x06\\x00\\x00\\x00*\\xbe\\x110\\x…"
      ]
     },
     "metadata": {},
     "output_type": "display_data"
    }
   ],
   "source": [
    "seoul_slider = widgets.IntSlider(min=0, max=23, value=0, description='Hour')\n",
    "imager = widgets.Image(value=seoul_images[0], format='png', width=600)\n",
    "\n",
    "display(seoul_slider)\n",
    "display(imager)\n",
    "\n",
    "def seoul_handle_slider_change(change):\n",
    "    imager.value = seoul_images[change['new']]\n",
    "\n",
    "seoul_slider.observe(seoul_handle_slider_change, names='value')"
   ]
  }
 ],
 "metadata": {
  "kernelspec": {
   "display_name": "Python 3",
   "language": "python",
   "name": "python3"
  },
  "language_info": {
   "codemirror_mode": {
    "name": "ipython",
    "version": 3
   },
   "file_extension": ".py",
   "mimetype": "text/x-python",
   "name": "python",
   "nbconvert_exporter": "python",
   "pygments_lexer": "ipython3",
   "version": "3.12.5"
  }
 },
 "nbformat": 4,
 "nbformat_minor": 2
}
