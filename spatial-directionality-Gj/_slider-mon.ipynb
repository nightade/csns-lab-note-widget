{
 "cells": [
  {
   "cell_type": "markdown",
   "metadata": {},
   "source": [
    "# Initialization"
   ]
  },
  {
   "cell_type": "code",
   "execution_count": 7,
   "metadata": {},
   "outputs": [],
   "source": [
    "# from ipywidgets import interact, IntSlider\n",
    "import ipywidgets as widgets\n",
    "from IPython.display import Image, display"
   ]
  },
  {
   "cell_type": "code",
   "execution_count": null,
   "metadata": {},
   "outputs": [],
   "source": [
    "sudo_image_files = [f'sudo-mon-{h:02}H.png' for h in range(24)]\n",
    "sudo_images = [open(img, 'rb').read() for img in sudo_image_files]\n",
    "assert len(sudo_images), '(Sudo) No images loaded!'\n",
    "\n",
    "seoul_image_files = [f'seoul-mon-{h:02}H.png' for h in range(24)]\n",
    "seoul_images = [open(img, 'rb').read() for img in seoul_image_files]\n",
    "assert len(seoul_images), '(Seoul) No images loaded!'"
   ]
  },
  {
   "cell_type": "markdown",
   "metadata": {},
   "source": [
    "# The Plots"
   ]
  },
  {
   "cell_type": "code",
   "execution_count": 8,
   "metadata": {},
   "outputs": [
    {
     "data": {
      "application/vnd.jupyter.widget-view+json": {
       "model_id": "8b2d2b35024148c0899cc560d2a003bf",
       "version_major": 2,
       "version_minor": 0
      },
      "text/plain": [
       "IntSlider(value=0, description='Hour', max=23)"
      ]
     },
     "metadata": {},
     "output_type": "display_data"
    },
    {
     "data": {
      "application/vnd.jupyter.widget-view+json": {
       "model_id": "2c2602c2e924436c8b609520fe0b023e",
       "version_major": 2,
       "version_minor": 0
      },
      "text/plain": [
       "Image(value=b'\\x89PNG\\r\\n\\x1a\\n\\x00\\x00\\x00\\rIHDR\\x00\\x00\\x02\\r\\x00\\x00\\x02~\\x08\\x06\\x00\\x00\\x000\\xae3\\xfb\\x00…"
      ]
     },
     "metadata": {},
     "output_type": "display_data"
    }
   ],
   "source": [
    "# interact(lambda idx: display(Image(sudo_images[idx])), idx=IntSlider(min=0, max=23))\n",
    "\n",
    "slider = widgets.IntSlider(min=0, max=23, value=0, description='Hour')\n",
    "imager = widgets.Image(value=sudo_images[0], format='png', width=600)\n",
    "\n",
    "display(slider)\n",
    "display(imager)\n",
    "\n",
    "def handle_slider_change(change):\n",
    "    imager.value = sudo_images[change['new']]\n",
    "\n",
    "slider.observe(handle_slider_change, names='value')"
   ]
  },
  {
   "cell_type": "code",
   "execution_count": null,
   "metadata": {},
   "outputs": [
    {
     "data": {
      "application/vnd.jupyter.widget-view+json": {
       "model_id": "7684918b1c614eb2a5a6bc3242a28544",
       "version_major": 2,
       "version_minor": 0
      },
      "text/plain": [
       "interactive(children=(IntSlider(value=0, description='idx', max=23), Output()), _dom_classes=('widget-interact…"
      ]
     },
     "metadata": {},
     "output_type": "display_data"
    },
    {
     "data": {
      "text/plain": [
       "<function __main__.<lambda>(idx)>"
      ]
     },
     "execution_count": 17,
     "metadata": {},
     "output_type": "execute_result"
    }
   ],
   "source": [
    "# interact(lambda idx: display(Image(seoul_images[idx])), idx=IntSlider(min=0, max=23))"
   ]
  }
 ],
 "metadata": {
  "kernelspec": {
   "display_name": "Python 3",
   "language": "python",
   "name": "python3"
  },
  "language_info": {
   "codemirror_mode": {
    "name": "ipython",
    "version": 3
   },
   "file_extension": ".py",
   "mimetype": "text/x-python",
   "name": "python",
   "nbconvert_exporter": "python",
   "pygments_lexer": "ipython3",
   "version": "3.12.5"
  }
 },
 "nbformat": 4,
 "nbformat_minor": 2
}
