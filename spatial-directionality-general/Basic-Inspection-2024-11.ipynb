{
 "cells": [
  {
   "cell_type": "markdown",
   "id": "e99295a7-e648-4b22-926f-a33ed1cc5e72",
   "metadata": {},
   "source": [
    "# 평일vs주말, 출퇴근 이동 분리를 해보자, 드디어. \n",
    "\n",
    "근데 왜 하는지는 알지?"
   ]
  },
  {
   "cell_type": "code",
   "execution_count": null,
   "id": "3c7ad1cc-d4ce-45fe-8b6b-5d4b0eeabfc4",
   "metadata": {},
   "outputs": [],
   "source": [
    "import numpy as np\n",
    "import pandas as pd\n",
    "import matplotlib.pyplot as plt\n",
    "from IPython.display import display\n",
    "# from matplotlib import colormaps\n",
    "from tqdm import tqdm\n",
    "import json\n",
    "\n",
    "import ipywidgets as widgets\n",
    "from IPython.display import display\n",
    "from itertools import product"
   ]
  },
  {
   "cell_type": "markdown",
   "id": "b20d38b3-8d10-442a-8cce-d8f87f065587",
   "metadata": {},
   "source": [
    "> 지리 데이터 참고<br>\n",
    "> [행정구역 코드 정리된 블로그](https://kimhongsi.tistory.com/entry/행정구역-코드-정리-2편-읍면동-행정동-단위)\n",
    "\n",
    "- 11서울\n",
    "- 26부산 / 27대구 / 28인천 / 29광주 / 30대전 / 31울산\n",
    "- 41경기 / 42강원 / 43충북 / 44충남 / 45전북 / 46전남 / 47경북 / 48경남\n",
    "- 50제주 / 51강원특 / 52전북특 "
   ]
  },
  {
   "cell_type": "markdown",
   "id": "69204aab",
   "metadata": {},
   "source": [
    "셀 개수 : 서울 9,082 / 수도권(경인) 53,880 / 나머지 140,853"
   ]
  },
  {
   "cell_type": "markdown",
   "id": "e3f93917-9265-46e1-a39e-237a36f721fc",
   "metadata": {},
   "source": [
    "# 이동량 데이터"
   ]
  },
  {
   "cell_type": "markdown",
   "id": "d3d458d1-ff55-4133-88b4-f730c62d7623",
   "metadata": {},
   "source": [
    "관찰의 대상으로 가능한 이동량 데이터($T_{ij}$) 는 **시간별로 총 30개**<br>\n",
    "지금 제일 궁금한것 (★) / 아마 그려야하지 않을까 (☆) / 10월 동안 그린 것(●)<br>\n",
    "\n",
    "|(0~24시)  |월|화|수|목|금|토|일|평일|주말|전체|\n",
    "|----------|---|---|---|---|---|---|---|---|---|---|\n",
    "|출퇴근 이동|☆ |  |  |  |  |  |  |★|☆|☆|\n",
    "|그 외 이동 |  |  |  |  |  |  |  |☆|★|☆|\n",
    "|전체 이동  |● |  |  |  |  |  |  |☆|☆|☆|\n",
    "\n",
    "<br>\n",
    "\n",
    "|O＼D|서울|서울+경기+인천|전체|\n",
    "|-------------|---|---|---|\n",
    "|서울          |☆|☆|☆|\n",
    "|서울+경기+인천|  |★|☆|\n",
    "|전체          |  |  |★|\n"
   ]
  },
  {
   "cell_type": "markdown",
   "id": "ffbc4c19-ebfa-44f3-9f76-56be74c0eb59",
   "metadata": {},
   "source": [
    "## 1.총 이동량 비교"
   ]
  },
  {
   "cell_type": "code",
   "execution_count": null,
   "id": "b581baac-8463-4e60-bfce-16dd7a61cb04",
   "metadata": {},
   "outputs": [],
   "source": [
    "T_dhtij = np.load('od_coarse_weekly.npy')\n",
    "T_dht = T_dhtij.sum(axis=(3,4))"
   ]
  },
  {
   "cell_type": "code",
   "execution_count": 13,
   "id": "1f4c3728-fc7b-4ec1-ae9f-2dd71ae868f2",
   "metadata": {},
   "outputs": [],
   "source": [
    "w_label_dict  = ['Mon', 'Tue', 'Wed', 'Thu', 'Fri', 'Sat', 'Sun', 'W.day_avg', 'W.end_avg', 'W.tot_avg']\n",
    "w_color_dict  = ['darkviolet', 'orange', 'skyblue', 'green', 'peru', 'blue', 'red', 'midnightblue', 'deeppink', 'black']\n",
    "w_marker_dict = ['', '', '', '', '', '', '', '.', '.', '.']\n",
    "\n",
    "t_label_dict = ['Com.', 'Etc.', 'Tot.']\n",
    "t_linestyle_dict = ['--', ':', '-']\n",
    "\n",
    "def plot_hourly_flow(weekdays, move_types):\n",
    "    fig, axes = plt.subplots(ncols=2, figsize=(12,6), gridspec_kw=dict(width_ratios=[4, 1]))\n",
    "    ax_h, ax_tot = axes\n",
    "    fig.tight_layout()\n",
    "\n",
    "    ax_h.set_title('Out-going flow by hour')\n",
    "    ax_h.set_ylabel('Hour'); ax_h.set_ylabel('Volume')\n",
    "    ax_h.set_xticks(range(24)); ax_h.grid()\n",
    "\n",
    "    ax_tot.set_title('(Mean over 24h)')\n",
    "    ax_tot.tick_params(axis='x', bottom=False, labelbottom=False)\n",
    "    [ax_tot.spines[loc].set_visible(False) for loc in ['top', 'right', 'bottom']]\n",
    "    ax_tot.set_xlim(0, 1)\n",
    "\n",
    "    for w, t in product(weekdays, move_types):\n",
    "        T_dh = None\n",
    "        T_h = None\n",
    "    \n",
    "        if t<2: T_dh = T_dht[:,:,t]\n",
    "        else:   T_dh = T_dht.sum(axis=2)\n",
    "        \n",
    "        if w < 7:  T_h = T_dh[w]\n",
    "        elif w==7: T_h = T_dh[0:5].mean(axis=0)\n",
    "        elif w==8: T_h = T_dh[5:7].mean(axis=0)\n",
    "        else:      T_h = T_dh.mean(axis=0)\n",
    "\n",
    "        label = w_label_dict[w] + '(' + t_label_dict[t] + ')'\n",
    "        line_params = dict(color=w_color_dict[w], marker=w_marker_dict[w], linestyle=t_linestyle_dict[t], label=label)\n",
    "        ax_h.plot(range(24), T_h, **line_params)\n",
    "    \n",
    "        tot_volume = T_h.mean()\n",
    "        ax_tot.plot([0.1, 0.5], [tot_volume,tot_volume], **line_params)\n",
    "        ax_tot.text(0.55, tot_volume, label)\n",
    "    if len(weekdays)*len(move_types) >0:\n",
    "        ax_h.legend()\n",
    "    plt.show()"
   ]
  },
  {
   "cell_type": "code",
   "execution_count": 14,
   "id": "6dc37910-7f06-4ae5-9cbc-3051d3a7f5b7",
   "metadata": {},
   "outputs": [
    {
     "data": {
      "application/vnd.jupyter.widget-view+json": {
       "model_id": "fae2a8397a7b4b5c8fe981ddf6f6ef69",
       "version_major": 2,
       "version_minor": 0
      },
      "text/plain": [
       "HBox(children=(VBox(children=(Checkbox(value=False, description='Mon'), Checkbox(value=False, description='Tue…"
      ]
     },
     "metadata": {},
     "output_type": "display_data"
    },
    {
     "data": {
      "application/vnd.jupyter.widget-view+json": {
       "model_id": "96b7502b237b4181a614a3aaf02efbfa",
       "version_major": 2,
       "version_minor": 0
      },
      "text/plain": [
       "Output()"
      ]
     },
     "metadata": {},
     "output_type": "display_data"
    }
   ],
   "source": [
    "arr_checkboxes_weekday   = [widgets.Checkbox(value=False, description=label) for label in w_label_dict]\n",
    "arr_checkboxes_move_type = [widgets.Checkbox(value=False, description=label) for label in t_label_dict]\n",
    "output = widgets.Output()\n",
    "\n",
    "display(widgets.HBox([\n",
    "    widgets.VBox(arr_checkboxes_weekday[:7]),\n",
    "    widgets.VBox(arr_checkboxes_weekday[7:]),\n",
    "    widgets.VBox(arr_checkboxes_move_type),\n",
    "]))\n",
    "display(output)\n",
    "\n",
    "W, Mask_weekdays   = np.arange(10), np.full(10, False)\n",
    "T, Mask_move_types = np.arange(3),  np.full(3, False)\n",
    "\n",
    "# Set initial values\n",
    "Mask_weekdays[7:] = True\n",
    "Mask_move_types[2] = True\n",
    "for checkbox, val in zip(arr_checkboxes_weekday, Mask_weekdays):\n",
    "    checkbox.value = bool(val)\n",
    "for checkbox, val in zip(arr_checkboxes_move_type, Mask_move_types):\n",
    "    checkbox.value = bool(val)\n",
    "\n",
    "def handle_checkbox(change):\n",
    "    with output:\n",
    "        output.clear_output()\n",
    "        checkbox_name = change['owner'].description\n",
    "        try:\n",
    "            Mask_weekdays[w_label_dict.index(checkbox_name)] = change['new']\n",
    "        except:\n",
    "            Mask_move_types[t_label_dict.index(checkbox_name)] = change['new']\n",
    "        plot_hourly_flow(W[Mask_weekdays], T[Mask_move_types])\n",
    "        \n",
    "[checkbox.observe(handle_checkbox, names='value') for checkbox in arr_checkboxes_weekday]\n",
    "[checkbox.observe(handle_checkbox, names='value') for checkbox in arr_checkboxes_move_type]\n",
    "\n",
    "handle_checkbox(dict(owner=arr_checkboxes_move_type[2], new=True, old=False))"
   ]
  }
 ],
 "metadata": {
  "kernelspec": {
   "display_name": "Python 3",
   "language": "python",
   "name": "python3"
  },
  "language_info": {
   "codemirror_mode": {
    "name": "ipython",
    "version": 3
   },
   "file_extension": ".py",
   "mimetype": "text/x-python",
   "name": "python",
   "nbconvert_exporter": "python",
   "pygments_lexer": "ipython3",
   "version": "3.9.13"
  }
 },
 "nbformat": 4,
 "nbformat_minor": 5
}
