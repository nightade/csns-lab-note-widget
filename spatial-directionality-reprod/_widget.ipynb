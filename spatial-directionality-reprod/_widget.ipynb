{
 "cells": [
  {
   "cell_type": "code",
   "execution_count": 3,
   "metadata": {},
   "outputs": [],
   "source": [
    "import numpy as np\n",
    "import matplotlib.pyplot as plt\n",
    "from matplotlib import colormaps\n",
    "import ipywidgets as widgets\n",
    "from IPython.display import display"
   ]
  },
  {
   "cell_type": "code",
   "execution_count": 4,
   "metadata": {},
   "outputs": [],
   "source": [
    "images_PMV = [[open(f'pmv-seoul-D{d:02}-H{h:02}.png', 'rb').read() for h in range(24)] for d in range(10)]\n",
    "assert len(images_PMV), 'Failed to load the PMV images!'"
   ]
  },
  {
   "cell_type": "code",
   "execution_count": 5,
   "metadata": {},
   "outputs": [],
   "source": [
    "w_label_dict  = ['Mon', 'Tue', 'Wed', 'Thu', 'Fri', 'Sat', 'Sun', 'W.day_avg', 'W.end_avg', 'W.tot_avg']\n",
    "w_color_dict  = ['darkviolet', 'orange', 'skyblue', 'green', 'peru', 'blue', 'red', 'midnightblue', 'deeppink', 'black']"
   ]
  },
  {
   "cell_type": "code",
   "execution_count": 6,
   "metadata": {},
   "outputs": [],
   "source": [
    "L_dh = np.load('L_sudo_weekly.npy')\n",
    "G_dhj = np.load('Gj_sudo_weekly.npy')\n",
    "G_dh = G_dhj.max(axis=2)"
   ]
  },
  {
   "cell_type": "code",
   "execution_count": 7,
   "metadata": {},
   "outputs": [],
   "source": [
    "w_label_dict  = ['Mon', 'Tue', 'Wed', 'Thu', 'Fri', 'Sat', 'Sun', 'W.day_avg', 'W.end_avg', 'W.tot_avg']\n",
    "w_color_dict  = ['rebeccapurple', 'orangered', 'lightseagreen', 'forestgreen', 'peru', 'blue', 'red', 'midnightblue', 'maroon', 'black']\n"
   ]
  },
  {
   "cell_type": "code",
   "execution_count": 8,
   "metadata": {},
   "outputs": [],
   "source": [
    "\n",
    "def parametrize_highlight(d, d0):\n",
    "    flag = d==d0\n",
    "    return dict(\n",
    "        alpha = (1 if flag else 0.25),\n",
    "        zorder = (100 if flag else d),\n",
    "        linewidth = (2 if flag else 1.5),\n",
    "        marker = ('s' if flag else ('.' if d<7 else '+'))\n",
    "    )\n",
    "\n",
    "def plot_AG_seperated(d_this):\n",
    "    fig, axes = plt.subplots(ncols=2, figsize=(14,6))\n",
    "    \n",
    "    fontsize=14\n",
    "    axes[0].set_title('Anisotropy Λ by hour', fontsize=fontsize)\n",
    "    axes[1].set_title('Centripetality Γ by hour', fontsize=fontsize)\n",
    "    axes[0].set_xlabel('Departing Hour', fontsize=fontsize-2)\n",
    "    axes[1].set_xlabel('Departing Hour', fontsize=fontsize-2)\n",
    "    axes[0].set_ylabel('Λ')\n",
    "    axes[1].set_ylabel('Γ')\n",
    "\n",
    "    for d in range(10):\n",
    "        params = dict(color=w_color_dict[d], **parametrize_highlight(d,d_this))\n",
    "        y11 = axes[0].plot(range(24), L_dh[d,:], **params)\n",
    "        y12 = axes[1].plot(range(24), G_dh[d,:], **params, label=w_label_dict[d])\n",
    "    \n",
    "    for ax in axes:\n",
    "        ax.grid()\n",
    "        ax.axvline(8,  color='k', alpha=0.5)\n",
    "        ax.axvline(18, color='k', alpha=0.5)\n",
    "    fig.legend(loc='lower left', bbox_to_anchor=(-0.03, 0.1))\n",
    "    # plt.close(fig)\n",
    "    plt.show()"
   ]
  },
  {
   "cell_type": "code",
   "execution_count": 9,
   "metadata": {},
   "outputs": [],
   "source": [
    "def plot_AG_combined(d_this):\n",
    "    fig, ax = plt.subplots(figsize=(6,6))\n",
    "    ax.set_title('The (Λ,Γ) space')\n",
    "    ax.set_xlabel('Λ, Anisotropy')\n",
    "    ax.set_ylabel('Γ, Centripetality')\n",
    "    \n",
    "    ax.set_xlim(0.2, 0.6)\n",
    "    ax.set_ylim(0.45, 0.85)\n",
    "    \n",
    "    ax.set_aspect('equal')\n",
    "    ax.grid()\n",
    "    \n",
    "    for d in range(10):\n",
    "        ax.plot(L_dh[d], G_dh[d], '.-', color='gray', alpha=0.25)\n",
    "\n",
    "    L_h, G_h = L_dh[d_this], G_dh[d_this]\n",
    "    \n",
    "    ax.plot(L_h, G_h, '-', color='k', zorder=1)\n",
    "    ax.scatter(L_h, G_h, c=colormaps['hsv'](np.linspace(1,0,24)), zorder=2)\n",
    "    \n",
    "    props = dict(boxstyle='round', fc='black', lw=0, alpha=0.7)\n",
    "    for h in [0, 7, 17]:\n",
    "        ax.text(L_h[h], G_h[h], f'{h}', ha='center', color='white', bbox=props)\n",
    "    ax.text(0.41, 0.82, f'day of week : {w_label_dict[d]}', ha='left', color='gray')\n",
    "\n",
    "    # plt.close(fig)\n",
    "    plt.show()"
   ]
  },
  {
   "cell_type": "markdown",
   "metadata": {},
   "source": [
    "# PMV $T_i$"
   ]
  },
  {
   "cell_type": "code",
   "execution_count": null,
   "metadata": {},
   "outputs": [
    {
     "data": {
      "application/vnd.jupyter.widget-view+json": {
       "model_id": "ad64840223f742f6bdeec40fc0f59837",
       "version_major": 2,
       "version_minor": 0
      },
      "text/plain": [
       "HBox(children=(VBox(children=(RadioButtons(description='Day of weeks for defining the mobility data (Tij)', op…"
      ]
     },
     "metadata": {},
     "output_type": "display_data"
    },
    {
     "data": {
      "application/vnd.jupyter.widget-view+json": {
       "model_id": "ead4198a629b41bf831faf69c9a1b6db",
       "version_major": 2,
       "version_minor": 0
      },
      "text/plain": [
       "HBox(children=(Output(), Output()))"
      ]
     },
     "metadata": {},
     "output_type": "display_data"
    }
   ],
   "source": [
    "d0, h0 = 0, 8\n",
    "\n",
    "radio_weekday = widgets.RadioButtons(\n",
    "    options=w_label_dict,\n",
    "    value=w_label_dict[d0],\n",
    "    description='Day of weeks for defining the mobility data (Tij)',\n",
    "    disabled=False\n",
    ")\n",
    "slider_hours = widgets.IntSlider(min=0, max=23, value=h0, description='Hour')\n",
    "imager_PMV = widgets.Image(value=images_PMV[d0][h0], format='png', width=800)\n",
    "output_AG_seperated = widgets.Output()\n",
    "output_AG_combined = widgets.Output()\n",
    "\n",
    "# display(\n",
    "#     widgets.VBox([\n",
    "#         widgets.HBox([widgets.VBox([radio_weekday, slider_hours]), imager_PMV]),\n",
    "#         widgets.HBox([output_AG_seperated, output_AG_combined])\n",
    "#     ])\n",
    "# )\n",
    "\n",
    "display(widgets.HBox([widgets.VBox([radio_weekday, slider_hours]), imager_PMV]))\n",
    "display(widgets.HBox([output_AG_seperated, output_AG_combined]))\n",
    "\n",
    "def handle_slider_hour_change(change):\n",
    "    d = w_label_dict.index(radio_weekday.value)\n",
    "    h = change['new']\n",
    "    imager_PMV.value = images_PMV[d][h]\n",
    "\n",
    "def handle_radio_weekday_change(change):\n",
    "    d = w_label_dict.index(change['new'])\n",
    "    h = slider_hours.value\n",
    "    imager_PMV.value = images_PMV[d][h]\n",
    "    with output_AG_seperated:\n",
    "        output_AG_seperated.clear_output()\n",
    "        plot_AG_seperated(d)\n",
    "    with output_AG_combined:\n",
    "        output_AG_combined.clear_output()\n",
    "        plot_AG_combined(d)\n",
    "\n",
    "slider_hours.observe(handle_slider_hour_change, names='value')\n",
    "radio_weekday.observe(handle_radio_weekday_change, names='value')\n",
    "\n",
    "handle_radio_weekday_change(dict(new=w_label_dict[d0]))"
   ]
  },
  {
   "cell_type": "code",
   "execution_count": null,
   "metadata": {},
   "outputs": [],
   "source": []
  }
 ],
 "metadata": {
  "kernelspec": {
   "display_name": "Python 3",
   "language": "python",
   "name": "python3"
  },
  "language_info": {
   "codemirror_mode": {
    "name": "ipython",
    "version": 3
   },
   "file_extension": ".py",
   "mimetype": "text/x-python",
   "name": "python",
   "nbconvert_exporter": "python",
   "pygments_lexer": "ipython3",
   "version": "3.9.13"
  }
 },
 "nbformat": 4,
 "nbformat_minor": 2
}
