{
 "cells": [
  {
   "cell_type": "code",
   "execution_count": 11,
   "metadata": {},
   "outputs": [],
   "source": [
    "import ipywidgets as widgets\n",
    "from IPython.display import display"
   ]
  },
  {
   "cell_type": "code",
   "execution_count": 12,
   "metadata": {},
   "outputs": [
    {
     "data": {
      "application/vnd.jupyter.widget-view+json": {
       "model_id": "a83ff0da7d5c4063b2a345748da3bbbc",
       "version_major": 2,
       "version_minor": 0
      },
      "text/plain": [
       "Image(value=b'\\x89PNG\\r\\n\\x1a\\n\\x00\\x00\\x00\\rIHDR\\x00\\x00\\x02C\\x00\\x00\\x01\\xe0\\x08\\x06\\x00\\x00\\x00\\xa6YiF\\x00\\…"
      ]
     },
     "metadata": {},
     "output_type": "display_data"
    }
   ],
   "source": [
    "display(widgets.Image(value=open('min_max.png', 'rb').read()))"
   ]
  },
  {
   "cell_type": "code",
   "execution_count": 25,
   "metadata": {},
   "outputs": [],
   "source": [
    "naive_image_files = [f'sudo-mon-lin-{h:02}H.png' for h in range(24)]\n",
    "naive_images = [open(img, 'rb').read() for img in naive_image_files]\n",
    "assert len(naive_images), '(Naive) No images loaded!'\n",
    "\n",
    "sudo_image_files = [f'sudo-mon-{h:02}H.png' for h in range(24)]\n",
    "sudo_images = [open(img, 'rb').read() for img in sudo_image_files]\n",
    "assert len(sudo_images), '(Sudo) No images loaded!'\n",
    "\n",
    "seoul_image_files = [f'seoul-mon-{h:02}H.png' for h in range(24)]\n",
    "seoul_images = [open(img, 'rb').read() for img in seoul_image_files]\n",
    "assert len(seoul_images), '(Seoul) No images loaded!'"
   ]
  },
  {
   "cell_type": "markdown",
   "metadata": {},
   "source": [
    "# Distribution of $G_j$\n",
    "\n",
    "*\"Centerness\"* of $j$ (kind of)"
   ]
  },
  {
   "cell_type": "code",
   "execution_count": 26,
   "metadata": {},
   "outputs": [
    {
     "data": {
      "application/vnd.jupyter.widget-view+json": {
       "model_id": "1fa1d48acbfa443c8f38fb40e93aae84",
       "version_major": 2,
       "version_minor": 0
      },
      "text/plain": [
       "IntSlider(value=0, description='Hour', max=23)"
      ]
     },
     "metadata": {},
     "output_type": "display_data"
    },
    {
     "data": {
      "application/vnd.jupyter.widget-view+json": {
       "model_id": "ef4382fe15ba4ac68c8b74ac7933fd2d",
       "version_major": 2,
       "version_minor": 0
      },
      "text/plain": [
       "Image(value=b'\\x89PNG\\r\\n\\x1a\\n\\x00\\x00\\x00\\rIHDR\\x00\\x00\\x02\\r\\x00\\x00\\x02~\\x08\\x06\\x00\\x00\\x000\\xae3\\xfb\\x00…"
      ]
     },
     "metadata": {},
     "output_type": "display_data"
    }
   ],
   "source": [
    "naive_slider = widgets.IntSlider(min=0, max=23, value=0, description='Hour')\n",
    "naive_imager = widgets.Image(value=naive_images[0], format='png', width=600)\n",
    "\n",
    "display(naive_slider)\n",
    "display(naive_imager)\n",
    "\n",
    "def naive_handle_slider_change(change):\n",
    "    naive_imager.value = naive_images[change['new']]\n",
    "\n",
    "naive_slider.observe(naive_handle_slider_change, names='value')"
   ]
  },
  {
   "cell_type": "markdown",
   "metadata": {},
   "source": [
    "🔍Heterogeneity is too small to be seen during off-peak hours so normalized."
   ]
  },
  {
   "cell_type": "code",
   "execution_count": 27,
   "metadata": {},
   "outputs": [
    {
     "data": {
      "application/vnd.jupyter.widget-view+json": {
       "model_id": "2e2bea7bdd6e4ad7b97eec8dc97ba802",
       "version_major": 2,
       "version_minor": 0
      },
      "text/plain": [
       "IntSlider(value=0, description='Hour', max=23)"
      ]
     },
     "metadata": {},
     "output_type": "display_data"
    },
    {
     "data": {
      "application/vnd.jupyter.widget-view+json": {
       "model_id": "b5ff34621baa442db1bef224289132c8",
       "version_major": 2,
       "version_minor": 0
      },
      "text/plain": [
       "Image(value=b'\\x89PNG\\r\\n\\x1a\\n\\x00\\x00\\x00\\rIHDR\\x00\\x00\\x02\\r\\x00\\x00\\x02~\\x08\\x06\\x00\\x00\\x000\\xae3\\xfb\\x00…"
      ]
     },
     "metadata": {},
     "output_type": "display_data"
    }
   ],
   "source": [
    "sudo_slider = widgets.IntSlider(min=0, max=23, value=0, description='Hour')\n",
    "imager = widgets.Image(value=sudo_images[0], format='png', width=600)\n",
    "\n",
    "display(sudo_slider)\n",
    "display(imager)\n",
    "\n",
    "def sudo_handle_slider_change(change):\n",
    "    imager.value = sudo_images[change['new']]\n",
    "\n",
    "sudo_slider.observe(sudo_handle_slider_change, names='value')"
   ]
  },
  {
   "cell_type": "code",
   "execution_count": 28,
   "metadata": {},
   "outputs": [
    {
     "data": {
      "application/vnd.jupyter.widget-view+json": {
       "model_id": "302a7159137842efa2351ffafb0e5c0a",
       "version_major": 2,
       "version_minor": 0
      },
      "text/plain": [
       "IntSlider(value=0, description='Hour', max=23)"
      ]
     },
     "metadata": {},
     "output_type": "display_data"
    },
    {
     "data": {
      "application/vnd.jupyter.widget-view+json": {
       "model_id": "63970cce5cb64826baba1d2765216101",
       "version_major": 2,
       "version_minor": 0
      },
      "text/plain": [
       "Image(value=b'\\x89PNG\\r\\n\\x1a\\n\\x00\\x00\\x00\\rIHDR\\x00\\x00\\x02\\x84\\x00\\x00\\x02~\\x08\\x06\\x00\\x00\\x00*\\xbe\\x110\\x…"
      ]
     },
     "metadata": {},
     "output_type": "display_data"
    }
   ],
   "source": [
    "seoul_slider = widgets.IntSlider(min=0, max=23, value=0, description='Hour')\n",
    "imager = widgets.Image(value=seoul_images[0], format='png', width=600)\n",
    "\n",
    "display(seoul_slider)\n",
    "display(imager)\n",
    "\n",
    "def seoul_handle_slider_change(change):\n",
    "    imager.value = seoul_images[change['new']]\n",
    "\n",
    "seoul_slider.observe(seoul_handle_slider_change, names='value')"
   ]
  }
 ],
 "metadata": {
  "kernelspec": {
   "display_name": "Python 3",
   "language": "python",
   "name": "python3"
  },
  "language_info": {
   "codemirror_mode": {
    "name": "ipython",
    "version": 3
   },
   "file_extension": ".py",
   "mimetype": "text/x-python",
   "name": "python",
   "nbconvert_exporter": "python",
   "pygments_lexer": "ipython3",
   "version": "3.12.5"
  }
 },
 "nbformat": 4,
 "nbformat_minor": 2
}
